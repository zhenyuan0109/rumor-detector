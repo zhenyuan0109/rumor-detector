{
 "cells": [
  {
   "cell_type": "code",
   "execution_count": 12,
   "id": "41eeb5ef",
   "metadata": {},
   "outputs": [],
   "source": [
    "#Extract data\n",
    "import zipfile\n",
    "import os\n",
    "import random\n",
    "import json\n",
    "\n",
    "source_path=\"./data/Chinese_Rumor_Dataset-master.zip\"\n",
    "target_path=\"./data/Chinese_Rumor_Dataset-master\"\n",
    "if(not os.path.isdir(target_path)):\n",
    "    z = zipfile.ZipFile(source_path, 'r')\n",
    "    z.extractall(path=target_path)\n",
    "    z.close()"
   ]
  },
  {
   "cell_type": "code",
   "execution_count": 13,
   "id": "c37e916b",
   "metadata": {},
   "outputs": [],
   "source": [
    "#path to rumor, non-rumor and oriional post\n",
    "rumor_class_dirs = os.listdir(target_path + \"/Chinese_Rumor_Dataset-master/CED_Dataset/rumor-repost/\")\n",
    "non_rumor_class_dirs = os.listdir(target_path + \"/Chinese_Rumor_Dataset-master/CED_Dataset/non-rumor-repost/\")\n",
    "original_microblog = target_path + \"/Chinese_Rumor_Dataset-master/CED_Dataset/original-microblog/\"\n",
    "\n",
    "#Label rumor and nun-rumor post\n",
    "rumor_label = \"0\"\n",
    "non_rumor_label = \"1\"\n",
    "\n",
    "#count number of rumor and non-rumor\n",
    "rumor_num = 0\n",
    "non_rumor_num = 0\n",
    "\n",
    "all_rumor_list = []\n",
    "all_non_rumor_list = []"
   ]
  },
  {
   "cell_type": "code",
   "execution_count": 24,
   "id": "49c25ff5",
   "metadata": {},
   "outputs": [
    {
     "name": "stdout",
     "output_type": "stream",
     "text": [
      "Total number of rumor posts:12304\n",
      "Total number of nun-rumor posts:5547\n",
      "Total number of posts:17851\n"
     ]
    }
   ],
   "source": [
    "#Traversal rumor data\n",
    "for rumor_class_dir in rumor_class_dirs:\n",
    "    if (rumor_class_dir != '.DS_Store' and rumor_class_dir != '._.DS_Store'):\n",
    "        with open(original_microblog + rumor_class_dir, 'r',encoding='UTF-8') as f:\n",
    "            rumor_content = f.read()\n",
    "        rumor_dict = json.loads(rumor_content)\n",
    "        all_rumor_list.append(rumor_label + \"\\t\" + rumor_dict[\"text\"] + \"\\n\")\n",
    "        rumor_num += 1\n",
    "\n",
    "#Traversal non-rumor data\n",
    "for non_rumor_class_dir in non_rumor_class_dirs:\n",
    "    if (non_rumor_class_dir != '.DS_Store' and non_rumor_class_dir != '._.DS_Store'):\n",
    "        with open(original_microblog + non_rumor_class_dir, 'r',encoding='UTF-8') as f2:\n",
    "            non_rumor_content = f2.read()\n",
    "        non_rumor_dict = json.loads(non_rumor_content)\n",
    "        all_non_rumor_list.append(non_rumor_label + \"\\t\" + non_rumor_dict[\"text\"] + \"\\n\")\n",
    "        non_rumor_num += 1\n",
    "\n",
    "print(\"Total number of rumor posts:\" + str(rumor_num))\n",
    "print(\"Total number of nun-rumor posts:\" + str(non_rumor_num))\n",
    "print(\"Total number of posts:\" + str(rumor_num+non_rumor_num))"
   ]
  },
  {
   "cell_type": "code",
   "execution_count": 32,
   "id": "65230e58",
   "metadata": {},
   "outputs": [],
   "source": [
    "# write data into all_data.txt out of order\n",
    "data_list_path = \"./data/\"\n",
    "all_data_path = data_list_path + \"all_data.txt\"\n",
    "\n",
    "all_data_list = all_rumor_list + all_non_rumor_list\n",
    "\n",
    "random.shuffle(all_data_list)\n",
    "\n",
    "# empty all_data.txt before write\n",
    "with open(all_data_path, 'w') as f:\n",
    "    f.seek(0)\n",
    "    f.truncate()\n",
    "\n",
    "with open(all_data_path, 'a',encoding='UTF-8') as f:\n",
    "    for data in all_data_list:\n",
    "        f.write(data)"
   ]
  },
  {
   "cell_type": "code",
   "execution_count": null,
   "id": "21756db4",
   "metadata": {},
   "outputs": [],
   "source": []
  }
 ],
 "metadata": {
  "kernelspec": {
   "display_name": "Python (ml venv)",
   "language": "python",
   "name": "myenv"
  },
  "language_info": {
   "codemirror_mode": {
    "name": "ipython",
    "version": 3
   },
   "file_extension": ".py",
   "mimetype": "text/x-python",
   "name": "python",
   "nbconvert_exporter": "python",
   "pygments_lexer": "ipython3",
   "version": "3.11.7"
  }
 },
 "nbformat": 4,
 "nbformat_minor": 5
}
